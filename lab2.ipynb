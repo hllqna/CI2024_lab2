{
 "cells": [
  {
   "cell_type": "code",
   "execution_count": 1,
   "metadata": {},
   "outputs": [],
   "source": [
    "import pandas as pd\n",
    "import numpy as np\n",
    "from geopy.distance import geodesic\n",
    "from itertools import combinations\n",
    "from tqdm.auto import tqdm\n",
    "from collections import deque\n",
    "from operator import itemgetter"
   ]
  },
  {
   "cell_type": "code",
   "execution_count": 2,
   "metadata": {},
   "outputs": [],
   "source": [
    "rng = np.random.Generator(np.random.PCG64(42)) # random number generator for reproducibility"
   ]
  },
  {
   "cell_type": "code",
   "execution_count": 3,
   "metadata": {},
   "outputs": [],
   "source": [
    "COUNTRY_LIST = ['Vanuatu', 'Italy', 'Russia', 'United States', 'China']\n",
    "vanuatu = pd.read_csv('cities/vanuatu.csv', header=None, names=['city', 'latitude', 'longitude'])\n",
    "italy = pd.read_csv('cities/italy.csv', header=None, names=['city', 'latitude', 'longitude'])\n",
    "russia = pd.read_csv('cities/russia.csv', header=None, names=['city', 'latitude', 'longitude'])\n",
    "us = pd.read_csv('cities/us.csv', header=None, names=['city', 'latitude', 'longitude'])\n",
    "china = pd.read_csv('cities/china.csv', header=None, names=['city', 'latitude', 'longitude'])"
   ]
  },
  {
   "cell_type": "code",
   "execution_count": 4,
   "metadata": {},
   "outputs": [],
   "source": [
    "def compute_distance(city1, city2):\n",
    "    return geodesic(\n",
    "        (city1.latitude, city1.longitude), (city2.latitude, city2.longitude)\n",
    "        ).km"
   ]
  },
  {
   "cell_type": "markdown",
   "metadata": {},
   "source": [
    "## Greedy algorithm"
   ]
  },
  {
   "cell_type": "code",
   "execution_count": 5,
   "metadata": {},
   "outputs": [],
   "source": [
    "def create_dist_matrix(cities):\n",
    "    dist_matrix = np.zeros((cities.shape[0], cities.shape[0]))\n",
    "    for c1, c2 in combinations(cities.itertuples(), 2):\n",
    "        dist_matrix[c1.Index, c2.Index] = dist_matrix[c2.Index, c1.Index] = compute_distance(c1,c2)\n",
    "    return dist_matrix\n",
    "\n",
    "def greedy_tsp(cities):\n",
    "    num_cities = cities.shape[0]\n",
    "    dist_matrix = create_dist_matrix(cities)\n",
    "    route = []\n",
    "    current_city_index = 0\n",
    "    route.append(current_city_index)\n",
    "    cost = 0\n",
    "\n",
    "    while not len(route)==num_cities:\n",
    "        dist_matrix[:, current_city_index] = np.inf\n",
    "        closest_city_index = np.argmin(dist_matrix[current_city_index])\n",
    "        route.append(closest_city_index)\n",
    "        cost += dist_matrix[current_city_index, closest_city_index]\n",
    "        current_city_index = closest_city_index\n",
    "        \n",
    "    cost += compute_distance(cities.iloc[route[-1]], cities.iloc[route[0]])\n",
    "    route.append(route[0])    \n",
    "    return route, cost"
   ]
  },
  {
   "cell_type": "markdown",
   "metadata": {},
   "source": [
    "## Greedier algorithm"
   ]
  },
  {
   "cell_type": "code",
   "execution_count": 6,
   "metadata": {},
   "outputs": [],
   "source": [
    "def greedier_tsp(cities):\n",
    "\n",
    "    min_cost = np.inf\n",
    "    min_route = None\n",
    "    num_cities = cities.shape[0]\n",
    "    max_iter = np.min((num_cities, 15))\n",
    "\n",
    "    # run the greedy algorithm with randomly selected starting city multiple times and keep the best solution\n",
    "    for _ in tqdm(range(max_iter)):\n",
    "        dist_matrix = create_dist_matrix(cities)\n",
    "        route = []\n",
    "        current_city_index = rng.integers(num_cities)\n",
    "        route.append(current_city_index)\n",
    "        cost = 0\n",
    "\n",
    "        while not len(route)==num_cities:\n",
    "            dist_matrix[:, current_city_index] = np.inf\n",
    "            closest_city_index = np.argmin(dist_matrix[current_city_index])\n",
    "            route.append(closest_city_index)\n",
    "            cost += dist_matrix[current_city_index, closest_city_index]\n",
    "            current_city_index = closest_city_index\n",
    "        \n",
    "        cost += compute_distance(cities.iloc[route[-1]], cities.iloc[route[0]])\n",
    "        route.append(route[0])\n",
    "\n",
    "        if cost < min_cost:\n",
    "            min_cost = cost\n",
    "            min_route = route\n",
    "\n",
    "\n",
    "    return min_route, min_cost"
   ]
  },
  {
   "cell_type": "markdown",
   "metadata": {},
   "source": [
    "## Tabu Search"
   ]
  },
  {
   "cell_type": "code",
   "execution_count": 7,
   "metadata": {},
   "outputs": [],
   "source": [
    "def fitness(solution, dist_matrix):\n",
    "    total_distance = 0\n",
    "    for i in range(len(solution) - 1):\n",
    "        city1 = solution[i]\n",
    "        city2 = solution[i + 1]\n",
    "        total_distance += dist_matrix[city1][city2]\n",
    "        \n",
    "    return total_distance"
   ]
  },
  {
   "cell_type": "code",
   "execution_count": 8,
   "metadata": {},
   "outputs": [],
   "source": [
    "def inversion_mutation(solution):\n",
    "    pos1 = rng.integers(0, len(solution)-2)\n",
    "    pos2 = rng.integers(pos1, len(solution)-2)\n",
    "    \n",
    "    new_solution = solution.copy()\n",
    "    new_solution.pop()\n",
    "    new_solution[pos1:pos2+1] = new_solution[pos1:pos2+1][::-1]\n",
    "    new_solution.append(new_solution[0])\n",
    "    return new_solution"
   ]
  },
  {
   "cell_type": "code",
   "execution_count": 9,
   "metadata": {},
   "outputs": [],
   "source": [
    "def scramble_mutation(solution):\n",
    "    pos1 = rng.integers(0, len(solution)-2)\n",
    "    pos2 = rng.integers(pos1, len(solution)-2)\n",
    "    \n",
    "    new_solution = solution.copy()\n",
    "    new_solution.pop()\n",
    "    subsequence = new_solution[pos1:pos2+1]\n",
    "    rng.shuffle(subsequence)\n",
    "    new_solution[pos1:pos2+1] = subsequence\n",
    "    new_solution.append(new_solution[0])\n",
    "    return new_solution"
   ]
  },
  {
   "cell_type": "code",
   "execution_count": 10,
   "metadata": {},
   "outputs": [],
   "source": [
    "def generate_neighbor(solution):\n",
    "    if rng.random() < 0.8:\n",
    "        return inversion_mutation(solution)\n",
    "    return scramble_mutation(solution)"
   ]
  },
  {
   "cell_type": "code",
   "execution_count": 11,
   "metadata": {},
   "outputs": [],
   "source": [
    "def tabu_search(init_solution, dist_matrix, tabu_memory=50, max_worsening_moves=10, limit_iterations=10000, convergence_limit=500):\n",
    "\n",
    "    current_solution = init_solution.copy()\n",
    "    best_solution = init_solution.copy()\n",
    "    current_fitness = fitness(current_solution, dist_matrix)\n",
    "    best_fitness = current_fitness\n",
    "    \n",
    "    tabu_list = deque(maxlen=tabu_memory)\n",
    "    tabu_list.append(tuple(current_solution))\n",
    "    \n",
    "    worsening_moves = 0\n",
    "    iteration = 0\n",
    "    no_improvement_counter = 0\n",
    "    \n",
    "    while no_improvement_counter < convergence_limit and iteration < limit_iterations:\n",
    "        neighbor = generate_neighbor(current_solution)\n",
    "        neighbor_fitness = fitness(neighbor, dist_matrix)\n",
    "        \n",
    "        if neighbor_fitness < best_fitness:\n",
    "            best_solution = neighbor.copy()\n",
    "            best_fitness = neighbor_fitness\n",
    "            worsening_moves = 0\n",
    "            no_improvement_counter = 0\n",
    "        else:\n",
    "            worsening_moves += 1\n",
    "            no_improvement_counter += 1\n",
    "        \n",
    "        # accept neighbor if not tabu or if it's better than best known\n",
    "        if tuple(neighbor) not in tabu_list or neighbor_fitness < best_fitness:\n",
    "            current_solution = neighbor\n",
    "            current_fitness = neighbor_fitness\n",
    "            tabu_list.append(tuple(neighbor))\n",
    "        \n",
    "        # if too many worsening moves, return to best solution\n",
    "        if worsening_moves >= max_worsening_moves:\n",
    "            current_solution = best_solution.copy()\n",
    "            current_fitness = best_fitness\n",
    "            worsening_moves = 0\n",
    "        \n",
    "        iteration += 1\n",
    "    \n",
    "    return best_solution, best_fitness"
   ]
  },
  {
   "cell_type": "markdown",
   "metadata": {},
   "source": [
    "## ES (Evolved Salesman)"
   ]
  },
  {
   "cell_type": "code",
   "execution_count": 12,
   "metadata": {},
   "outputs": [],
   "source": [
    "def create_initial_population(init_solution, pop_size):\n",
    "    population = [init_solution.copy()]\n",
    "    \n",
    "    while len(population) < pop_size:\n",
    "        if rng.random() < 0.5:\n",
    "            new_solution = inversion_mutation(init_solution)\n",
    "        else:\n",
    "            new_solution = scramble_mutation(init_solution)\n",
    "        population.append(new_solution)\n",
    "    \n",
    "    return population"
   ]
  },
  {
   "cell_type": "code",
   "execution_count": 13,
   "metadata": {},
   "outputs": [],
   "source": [
    "def rank_based_selection(population, fitness_values, num_parents):\n",
    "    # lower fitness -> higher rank\n",
    "    population_fitness = list(zip(population, fitness_values))\n",
    "    population_fitness.sort(key=itemgetter(1))\n",
    "    \n",
    "    n = len(population_fitness)\n",
    "    ranks = range(n, 0, -1)\n",
    "    rank_sum = sum(ranks)\n",
    "    probabilities = [r/rank_sum for r in ranks]\n",
    "    \n",
    "    selected_indices = rng.choice(n, size=num_parents, p=probabilities, replace=False)\n",
    "    \n",
    "    return [population_fitness[i][0] for i in selected_indices]"
   ]
  },
  {
   "cell_type": "code",
   "execution_count": 14,
   "metadata": {},
   "outputs": [],
   "source": [
    "def inver_over_crossover(parent1, parent2):\n",
    "    p1 = parent1[:-1].copy()\n",
    "    p2 = parent2[:-1].copy()\n",
    "    offspring = p1.copy()\n",
    "    \n",
    "    position1 = rng.integers(0, len(p1)-1)\n",
    "    current_element = p1[position1]\n",
    "    next_element = p1[(position1+1) % len(p1)]\n",
    "\n",
    "    p2_current_pos = p2.index(current_element)\n",
    "    p2_next_element = p2[(p2_current_pos + 1) % len(p2)]\n",
    "\n",
    "    if p2_next_element == next_element:\n",
    "        p2_next_element = p2[(p2_current_pos + 2) % len(p2)]\n",
    "    \n",
    "    position2 = p1.index(p2_next_element)\n",
    "    \n",
    "    #determine the inversion section\n",
    "    if position1 < position2:\n",
    "        offspring[position1+1:position2+1] = offspring[position1+1:position2+1][::-1]\n",
    "    else:\n",
    "        temp = offspring[position1+1:] + offspring[:position2+1]\n",
    "        temp = temp[::-1]\n",
    "        offspring[position1+1:] = temp[:len(offspring)-position1-1]\n",
    "        offspring[:position2+1] = temp[len(offspring)-position1-1:]\n",
    "    \n",
    "    offspring.append(offspring[0])  \n",
    "    return offspring"
   ]
  },
  {
   "cell_type": "code",
   "execution_count": 15,
   "metadata": {},
   "outputs": [],
   "source": [
    "def evolution_strategy(init_solution, dist_matrix, pop_size=50, offspring_size=10, \n",
    "                      convergence_limit=1000, limit_num_generations=100000, mutation_prob=0.2):\n",
    "    population = create_initial_population(init_solution, pop_size)\n",
    "    fitness_values = [fitness(sol, dist_matrix) for sol in population]\n",
    "    best_solution = min(zip(population, fitness_values), key=itemgetter(1))[0]\n",
    "    best_fitness = min(fitness_values)\n",
    "    fitness_history = [best_fitness]\n",
    "\n",
    "    no_improvement_counter = 0\n",
    "    generation = 0\n",
    "\n",
    "    while no_improvement_counter < convergence_limit and generation < limit_num_generations:\n",
    "        for _ in range(offspring_size):\n",
    "            parents = rank_based_selection(population, fitness_values, 2)\n",
    "            offspring = inver_over_crossover(parents[0], parents[1])\n",
    "\n",
    "            if rng.random() < mutation_prob:\n",
    "                if rng.random() < 0.7:\n",
    "                    offspring = inversion_mutation(offspring)\n",
    "                else:\n",
    "                    offspring = scramble_mutation(offspring)\n",
    "            \n",
    "            offspring_fitness = fitness(offspring, dist_matrix)\n",
    "            \n",
    "            # Compare offspring with the worst solution in the population\n",
    "            worst_index = max(range(len(fitness_values)), key=lambda i: fitness_values[i])\n",
    "            if offspring_fitness < fitness_values[worst_index]:\n",
    "                population[worst_index] = offspring\n",
    "                fitness_values[worst_index] = offspring_fitness\n",
    "                \n",
    "                if offspring_fitness < best_fitness:\n",
    "                    best_fitness = offspring_fitness\n",
    "                    best_solution = offspring.copy()\n",
    "                    no_improvement_counter = 0\n",
    "                else:\n",
    "                    no_improvement_counter += 1\n",
    "            else:\n",
    "                no_improvement_counter += 1\n",
    "        \n",
    "        fitness_history.append(best_fitness)\n",
    "        generation += 1\n",
    "    \n",
    "    return best_solution, best_fitness, fitness_history"
   ]
  },
  {
   "cell_type": "markdown",
   "metadata": {},
   "source": [
    "## Experimental results"
   ]
  },
  {
   "cell_type": "code",
   "execution_count": 16,
   "metadata": {},
   "outputs": [
    {
     "name": "stdout",
     "output_type": "stream",
     "text": [
      "===== Country: Vanuatu =====\n",
      "Greedy TSP distance: 1475.528091104531\n"
     ]
    },
    {
     "data": {
      "application/vnd.jupyter.widget-view+json": {
       "model_id": "9b40f93b5d224738b7477374a39181bf",
       "version_major": 2,
       "version_minor": 0
      },
      "text/plain": [
       "  0%|          | 0/8 [00:00<?, ?it/s]"
      ]
     },
     "metadata": {},
     "output_type": "display_data"
    },
    {
     "name": "stdout",
     "output_type": "stream",
     "text": [
      "Greedier TSP distance: 1475.528091104531\n",
      "Tabu search distance: 1345.5449564733115\n",
      "ES distance: 1345.544956473311\n",
      "\n",
      "===== Country: Italy =====\n",
      "Greedy TSP distance: 4436.03176952516\n"
     ]
    },
    {
     "data": {
      "application/vnd.jupyter.widget-view+json": {
       "model_id": "83c6829dfa344ba6b052b460b96f88f0",
       "version_major": 2,
       "version_minor": 0
      },
      "text/plain": [
       "  0%|          | 0/15 [00:00<?, ?it/s]"
      ]
     },
     "metadata": {},
     "output_type": "display_data"
    },
    {
     "name": "stdout",
     "output_type": "stream",
     "text": [
      "Greedier TSP distance: 4576.195155974603\n",
      "Tabu search distance: 4429.095375854959\n",
      "ES distance: 4429.095375854956\n",
      "\n",
      "===== Country: Russia =====\n",
      "Greedy TSP distance: 42334.16465744784\n"
     ]
    },
    {
     "data": {
      "application/vnd.jupyter.widget-view+json": {
       "model_id": "3fcf9f8bb7e04dbf8aa62ac4688b9c24",
       "version_major": 2,
       "version_minor": 0
      },
      "text/plain": [
       "  0%|          | 0/15 [00:00<?, ?it/s]"
      ]
     },
     "metadata": {},
     "output_type": "display_data"
    },
    {
     "name": "stdout",
     "output_type": "stream",
     "text": [
      "Greedier TSP distance: 40051.58704748039\n",
      "Tabu search distance: 42334.16465744784\n",
      "ES distance: 40802.40480925422\n",
      "\n",
      "===== Country: United States =====\n",
      "Greedy TSP distance: 48050.02586446137\n"
     ]
    },
    {
     "data": {
      "application/vnd.jupyter.widget-view+json": {
       "model_id": "c6860599151d4905a19d4ddf2a4759dd",
       "version_major": 2,
       "version_minor": 0
      },
      "text/plain": [
       "  0%|          | 0/15 [00:00<?, ?it/s]"
      ]
     },
     "metadata": {},
     "output_type": "display_data"
    },
    {
     "name": "stdout",
     "output_type": "stream",
     "text": [
      "Greedier TSP distance: 46997.43371671413\n",
      "Tabu search distance: 48050.02586446137\n",
      "ES distance: 47284.889432599186\n",
      "\n",
      "===== Country: China =====\n",
      "Greedy TSP distance: 63962.9184294552\n"
     ]
    },
    {
     "data": {
      "application/vnd.jupyter.widget-view+json": {
       "model_id": "7164e6cbbff540638e6c2643f83026c0",
       "version_major": 2,
       "version_minor": 0
      },
      "text/plain": [
       "  0%|          | 0/15 [00:00<?, ?it/s]"
      ]
     },
     "metadata": {},
     "output_type": "display_data"
    },
    {
     "name": "stdout",
     "output_type": "stream",
     "text": [
      "Greedier TSP distance: 62439.5324998315\n",
      "Tabu search distance: 63962.9184294552\n",
      "ES distance: 63433.307812908984\n",
      "\n"
     ]
    }
   ],
   "source": [
    "for i, cities in enumerate([vanuatu, italy, russia, us, china]):\n",
    "    dist_matrix = create_dist_matrix(cities)\n",
    "    print(f\"===== Country: {COUNTRY_LIST[i]} =====\")\n",
    "\n",
    "    greedy_solution, greedy_cost = greedy_tsp(cities)\n",
    "    print(f\"Greedy TSP distance: {greedy_cost}\")\n",
    "    greedier_solution, greedier_cost = greedier_tsp(cities)\n",
    "    print(f\"Greedier TSP distance: {greedier_cost}\")\n",
    "    tabu_solution, tabu_cost = tabu_search(greedy_solution, dist_matrix)\n",
    "    print(f\"Tabu search distance: {tabu_cost}\")\n",
    "    es_solution, es_cost, _ = evolution_strategy(tabu_solution, dist_matrix)\n",
    "    print(f\"ES distance: {es_cost}\\n\")"
   ]
  }
 ],
 "metadata": {
  "kernelspec": {
   "display_name": "venv",
   "language": "python",
   "name": "python3"
  },
  "language_info": {
   "codemirror_mode": {
    "name": "ipython",
    "version": 3
   },
   "file_extension": ".py",
   "mimetype": "text/x-python",
   "name": "python",
   "nbconvert_exporter": "python",
   "pygments_lexer": "ipython3",
   "version": "3.12.0"
  }
 },
 "nbformat": 4,
 "nbformat_minor": 2
}
