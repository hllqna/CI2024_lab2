{
 "cells": [
  {
   "cell_type": "code",
   "execution_count": 224,
   "metadata": {},
   "outputs": [],
   "source": [
    "import pandas as pd\n",
    "import numpy as np\n",
    "from geopy.distance import geodesic\n",
    "from itertools import combinations\n",
    "from tqdm.auto import tqdm\n",
    "from collections import deque"
   ]
  },
  {
   "cell_type": "code",
   "execution_count": 92,
   "metadata": {},
   "outputs": [],
   "source": [
    "vanuatu = pd.read_csv('cities/vanuatu.csv', header=None, names=['city', 'latitude', 'longitude'])\n",
    "italy = pd.read_csv('cities/italy.csv', header=None, names=['city', 'latitude', 'longitude'])\n",
    "russia = pd.read_csv('cities/russia.csv', header=None, names=['city', 'latitude', 'longitude'])\n",
    "us = pd.read_csv('cities/us.csv', header=None, names=['city', 'latitude', 'longitude'])\n",
    "china = pd.read_csv('cities/china.csv', header=None, names=['city', 'latitude', 'longitude'])"
   ]
  },
  {
   "cell_type": "code",
   "execution_count": 93,
   "metadata": {},
   "outputs": [],
   "source": [
    "def compute_distance(city1, city2):\n",
    "    return geodesic(\n",
    "        (city1.latitude, city1.longitude), (city2.latitude, city2.longitude)\n",
    "        ).km"
   ]
  },
  {
   "cell_type": "markdown",
   "metadata": {},
   "source": [
    "## Greedy algorithm:\n",
    "* start from the first line -> no need to choose the starting point as we'd need to go through all of them in a closed cycle anyway\n",
    "* the cost of moving is the euclidian distance\n",
    "* once the city is \"visited\", remove it from df\n",
    "* add the cost from the last city in a route to the first one, closing the cycle"
   ]
  },
  {
   "cell_type": "code",
   "execution_count": 180,
   "metadata": {},
   "outputs": [],
   "source": [
    "def create_dist_matrix(cities):\n",
    "    dist_matrix = np.zeros((cities.shape[0], cities.shape[0]))\n",
    "    for c1, c2 in combinations(cities.itertuples(), 2):\n",
    "        dist_matrix[c1.Index, c2.Index] = dist_matrix[c2.Index, c1.Index] = compute_distance(c1,c2)\n",
    "    return dist_matrix\n",
    "\n",
    "def greedy_tsp(cities):\n",
    "    num_cities = cities.shape[0]\n",
    "    dist_matrix = create_dist_matrix(cities)\n",
    "    route = []\n",
    "    current_city_index = 0\n",
    "    route.append(current_city_index)\n",
    "    cost = 0\n",
    "\n",
    "    while not len(route)==num_cities:\n",
    "        dist_matrix[:, current_city_index] = np.inf\n",
    "        closest_city_index = np.argmin(dist_matrix[current_city_index])\n",
    "        route.append(closest_city_index)\n",
    "        cost += dist_matrix[current_city_index, closest_city_index]\n",
    "        current_city_index = closest_city_index\n",
    "        \n",
    "    cost += compute_distance(cities.iloc[route[-1]], cities.iloc[route[0]])\n",
    "    route.append(route[0])    \n",
    "    return route, cost"
   ]
  },
  {
   "cell_type": "code",
   "execution_count": 182,
   "metadata": {},
   "outputs": [
    {
     "name": "stdout",
     "output_type": "stream",
     "text": [
      "([0, np.int64(7), np.int64(1), np.int64(4), np.int64(3), np.int64(5), np.int64(2), np.int64(6), 0], np.float64(1475.528091104531))\n"
     ]
    }
   ],
   "source": [
    "print(greedy_tsp(vanuatu))"
   ]
  },
  {
   "cell_type": "code",
   "execution_count": 181,
   "metadata": {},
   "outputs": [
    {
     "name": "stdout",
     "output_type": "stream",
     "text": [
      "4436.03176952516\n"
     ]
    }
   ],
   "source": [
    "print(greedy_tsp(italy)[1])"
   ]
  },
  {
   "cell_type": "code",
   "execution_count": 97,
   "metadata": {},
   "outputs": [
    {
     "name": "stdout",
     "output_type": "stream",
     "text": [
      "42334.16465744784\n"
     ]
    }
   ],
   "source": [
    "print(greedy_tsp(russia)[1])"
   ]
  },
  {
   "cell_type": "code",
   "execution_count": 98,
   "metadata": {},
   "outputs": [
    {
     "name": "stdout",
     "output_type": "stream",
     "text": [
      "48050.02586446137\n"
     ]
    }
   ],
   "source": [
    "print(greedy_tsp(us)[1])"
   ]
  },
  {
   "cell_type": "code",
   "execution_count": 99,
   "metadata": {},
   "outputs": [
    {
     "name": "stdout",
     "output_type": "stream",
     "text": [
      "63962.9184294552\n"
     ]
    }
   ],
   "source": [
    "print(greedy_tsp(china)[1])"
   ]
  },
  {
   "cell_type": "markdown",
   "metadata": {},
   "source": [
    "## Greedier algorithm"
   ]
  },
  {
   "cell_type": "code",
   "execution_count": 176,
   "metadata": {},
   "outputs": [],
   "source": [
    "def greedier_tsp(cities):\n",
    "\n",
    "    min_cost = np.inf\n",
    "    min_route = None\n",
    "    num_cities = cities.shape[0]\n",
    "    max_iter = np.min((num_cities, 15))\n",
    "\n",
    "    for _ in tqdm(range(max_iter)):\n",
    "        dist_matrix = create_dist_matrix(cities)\n",
    "        route = []\n",
    "        current_city_index = np.random.randint(num_cities)\n",
    "        route.append(current_city_index)\n",
    "        cost = 0\n",
    "\n",
    "        while not len(route)==num_cities:\n",
    "            dist_matrix[:, current_city_index] = np.inf\n",
    "            closest_city_index = np.argmin(dist_matrix[current_city_index])\n",
    "            route.append(closest_city_index)\n",
    "            cost += dist_matrix[current_city_index, closest_city_index]\n",
    "            current_city_index = closest_city_index\n",
    "        \n",
    "        cost += compute_distance(cities.iloc[route[-1]], cities.iloc[route[0]])\n",
    "        route.append(route[0])\n",
    "\n",
    "        if cost < min_cost:\n",
    "            min_cost = cost\n",
    "            min_route = route\n",
    "\n",
    "\n",
    "    return min_route, min_cost"
   ]
  },
  {
   "cell_type": "code",
   "execution_count": 177,
   "metadata": {},
   "outputs": [
    {
     "data": {
      "application/vnd.jupyter.widget-view+json": {
       "model_id": "df43c028db1c4e018bf00552e9cd77e4",
       "version_major": 2,
       "version_minor": 0
      },
      "text/plain": [
       "  0%|          | 0/8 [00:00<?, ?it/s]"
      ]
     },
     "metadata": {},
     "output_type": "display_data"
    },
    {
     "name": "stdout",
     "output_type": "stream",
     "text": [
      "([0, np.int64(7), np.int64(1), np.int64(4), np.int64(3), np.int64(5), np.int64(2), np.int64(6), 0], np.float64(1475.528091104531))\n"
     ]
    }
   ],
   "source": [
    "print(greedier_tsp(vanuatu))"
   ]
  },
  {
   "cell_type": "code",
   "execution_count": 173,
   "metadata": {},
   "outputs": [
    {
     "name": "stdout",
     "output_type": "stream",
     "text": [
      "([35, np.int64(21), np.int64(14), np.int64(15), np.int64(34), np.int64(39), np.int64(26), np.int64(0), np.int64(33), np.int64(12), np.int64(30), np.int64(9), np.int64(4), np.int64(19), np.int64(32), np.int64(25), np.int64(28), np.int64(18), np.int64(20), np.int64(3), np.int64(6), np.int64(44), np.int64(45), np.int64(23), np.int64(43), np.int64(41), np.int64(5), np.int64(40), np.int64(22), np.int64(42), np.int64(13), np.int64(16), np.int64(29), np.int64(10), np.int64(27), np.int64(11), np.int64(1), np.int64(2), np.int64(38), np.int64(17), np.int64(31), np.int64(8), np.int64(37), np.int64(24), np.int64(7), np.int64(36), 35], np.float64(4628.352240990477))\n"
     ]
    }
   ],
   "source": [
    "print(greedier_tsp(italy))"
   ]
  },
  {
   "cell_type": "code",
   "execution_count": 167,
   "metadata": {},
   "outputs": [
    {
     "name": "stdout",
     "output_type": "stream",
     "text": [
      "41526.35101041394\n"
     ]
    }
   ],
   "source": [
    "print(greedier_tsp(russia)[1])"
   ]
  },
  {
   "cell_type": "code",
   "execution_count": 168,
   "metadata": {},
   "outputs": [
    {
     "name": "stdout",
     "output_type": "stream",
     "text": [
      "47538.6574768417\n"
     ]
    }
   ],
   "source": [
    "print(greedier_tsp(us)[1])"
   ]
  },
  {
   "cell_type": "code",
   "execution_count": 169,
   "metadata": {},
   "outputs": [
    {
     "name": "stdout",
     "output_type": "stream",
     "text": [
      "63057.19111098851\n"
     ]
    }
   ],
   "source": [
    "# print(greedier_tsp(china)[1])\n",
    "# This computation took 12m36s on my machine. Computationally heavy and totally not optimal for large set of cities"
   ]
  },
  {
   "cell_type": "markdown",
   "metadata": {},
   "source": [
    "## Tabu Search"
   ]
  },
  {
   "cell_type": "code",
   "execution_count": 221,
   "metadata": {},
   "outputs": [],
   "source": [
    "def fitness(solution, dist_matrix):\n",
    "    total_distance = 0\n",
    "    for i in range(len(solution) - 1):\n",
    "        city1 = solution[i]\n",
    "        city2 = solution[i + 1]\n",
    "        total_distance += dist_matrix[city1][city2]\n",
    "        \n",
    "    return total_distance"
   ]
  },
  {
   "cell_type": "code",
   "execution_count": 216,
   "metadata": {},
   "outputs": [],
   "source": [
    "def inversion_mutation(solution):\n",
    "    pos1 = np.random.randint(0, len(solution)-2)\n",
    "    pos2 = np.random.randint(pos1, len(solution)-2)\n",
    "    \n",
    "    new_solution = solution.copy()\n",
    "    new_solution.pop()\n",
    "    new_solution[pos1:pos2+1] = new_solution[pos1:pos2+1][::-1]\n",
    "    new_solution.append(new_solution[0])\n",
    "    return new_solution"
   ]
  },
  {
   "cell_type": "code",
   "execution_count": 215,
   "metadata": {},
   "outputs": [],
   "source": [
    "def scramble_mutation(solution):\n",
    "    pos1 = np.random.randint(0, len(solution)-2)\n",
    "    pos2 = np.random.randint(pos1, len(solution)-2)\n",
    "    \n",
    "    new_solution = solution.copy()\n",
    "    new_solution.pop()\n",
    "    subsequence = new_solution[pos1:pos2+1]\n",
    "    np.random.shuffle(subsequence)\n",
    "    new_solution[pos1:pos2+1] = subsequence\n",
    "    new_solution.append(new_solution[0])\n",
    "    return new_solution"
   ]
  },
  {
   "cell_type": "code",
   "execution_count": 263,
   "metadata": {},
   "outputs": [],
   "source": [
    "def generate_neighbor(solution):\n",
    "    if np.random.random() < 0.8:\n",
    "        return inversion_mutation(solution)\n",
    "    return scramble_mutation(solution)"
   ]
  },
  {
   "cell_type": "code",
   "execution_count": 264,
   "metadata": {},
   "outputs": [],
   "source": [
    "def tabu_search(init_solution, dist_matrix, tabu_memory=10, max_worsening_moves=5, max_iterations=1000):\n",
    "\n",
    "    current_solution = init_solution.copy()\n",
    "    best_solution = init_solution.copy()\n",
    "    current_fitness = fitness(current_solution, dist_matrix)\n",
    "    best_fitness = current_fitness\n",
    "    \n",
    "    tabu_list = deque(maxlen=tabu_memory)\n",
    "    tabu_list.append(tuple(current_solution))\n",
    "    \n",
    "    worsening_moves = 0\n",
    "    iteration = 0\n",
    "    \n",
    "    while iteration < max_iterations:\n",
    "        neighbor = generate_neighbor(current_solution)\n",
    "        neighbor_fitness = fitness(neighbor, dist_matrix)\n",
    "        \n",
    "        if neighbor_fitness < best_fitness:\n",
    "            best_solution = neighbor.copy()\n",
    "            best_fitness = neighbor_fitness\n",
    "            worsening_moves = 0\n",
    "        else:\n",
    "            worsening_moves += 1\n",
    "        \n",
    "        # Accept neighbor if not tabu or if it's better than best known\n",
    "        if tuple(neighbor) not in tabu_list or neighbor_fitness < best_fitness:\n",
    "            current_solution = neighbor\n",
    "            current_fitness = neighbor_fitness\n",
    "            tabu_list.append(tuple(neighbor))\n",
    "        \n",
    "        # If too many worsening moves, return to best solution\n",
    "        if worsening_moves >= max_worsening_moves:\n",
    "            current_solution = best_solution.copy()\n",
    "            current_fitness = best_fitness\n",
    "            worsening_moves = 0\n",
    "        \n",
    "        iteration += 1\n",
    "    \n",
    "    return best_solution, best_fitness"
   ]
  },
  {
   "cell_type": "code",
   "execution_count": 267,
   "metadata": {},
   "outputs": [
    {
     "name": "stdout",
     "output_type": "stream",
     "text": [
      "Initial distance: 4436.03176952516\n",
      "Distance of the route found with taboo: 4329.671303083085\n"
     ]
    }
   ],
   "source": [
    "cities = italy\n",
    "dist_matrix = create_dist_matrix(cities)\n",
    "init_solution, init_cost = greedy_tsp(cities)\n",
    "\n",
    "\n",
    "print(f\"Initial distance: {init_cost}\")\n",
    "print(f\"Distance of the route found with taboo: {tabu_search(init_solution, dist_matrix)[1]}\")"
   ]
  }
 ],
 "metadata": {
  "kernelspec": {
   "display_name": "venv",
   "language": "python",
   "name": "python3"
  },
  "language_info": {
   "codemirror_mode": {
    "name": "ipython",
    "version": 3
   },
   "file_extension": ".py",
   "mimetype": "text/x-python",
   "name": "python",
   "nbconvert_exporter": "python",
   "pygments_lexer": "ipython3",
   "version": "3.12.0"
  }
 },
 "nbformat": 4,
 "nbformat_minor": 2
}
