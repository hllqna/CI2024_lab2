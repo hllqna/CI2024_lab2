{
 "cells": [
  {
   "cell_type": "code",
   "execution_count": 174,
   "metadata": {},
   "outputs": [],
   "source": [
    "import pandas as pd\n",
    "import numpy as np\n",
    "from geopy.distance import geodesic\n",
    "from itertools import combinations\n",
    "from tqdm.auto import tqdm"
   ]
  },
  {
   "cell_type": "code",
   "execution_count": 92,
   "metadata": {},
   "outputs": [],
   "source": [
    "vanuatu = pd.read_csv('cities/vanuatu.csv', header=None, names=['city', 'latitude', 'longitude'])\n",
    "italy = pd.read_csv('cities/italy.csv', header=None, names=['city', 'latitude', 'longitude'])\n",
    "russia = pd.read_csv('cities/russia.csv', header=None, names=['city', 'latitude', 'longitude'])\n",
    "us = pd.read_csv('cities/us.csv', header=None, names=['city', 'latitude', 'longitude'])\n",
    "china = pd.read_csv('cities/china.csv', header=None, names=['city', 'latitude', 'longitude'])"
   ]
  },
  {
   "cell_type": "code",
   "execution_count": 93,
   "metadata": {},
   "outputs": [],
   "source": [
    "def compute_distance(city1, city2):\n",
    "    return geodesic(\n",
    "        (city1.latitude, city1.longitude), (city2.latitude, city2.longitude)\n",
    "        ).km"
   ]
  },
  {
   "cell_type": "markdown",
   "metadata": {},
   "source": [
    "## Greedy algorithm:\n",
    "* start from the first line -> no need to choose the starting point as we'd need to go through all of them in a closed cycle anyway\n",
    "* the cost of moving is the euclidian distance\n",
    "* once the city is \"visited\", remove it from df\n",
    "* add the cost from the last city in a route to the first one, closing the cycle"
   ]
  },
  {
   "cell_type": "code",
   "execution_count": 94,
   "metadata": {},
   "outputs": [],
   "source": [
    "def greedy_tsp(cities):\n",
    "    route = [cities.iloc[0]['city']]\n",
    "    current_city = cities.iloc[0]\n",
    "    cost = 0\n",
    "    unvisited = cities.copy()\n",
    "    unvisited = unvisited.drop(index=0)\n",
    "\n",
    "    while not unvisited.empty:\n",
    "        shortest_dist = 1000000\n",
    "        closest_city_index = None\n",
    "        for i in unvisited.index:\n",
    "            dist = compute_distance(current_city, unvisited.loc[i])\n",
    "            if dist < shortest_dist:\n",
    "                shortest_dist = dist\n",
    "                closest_city_index = i\n",
    "        route.append(unvisited.loc[closest_city_index]['city'])\n",
    "        cost += shortest_dist\n",
    "        # print('current_city: ', current_city)\n",
    "        # print('going to', unvisited.loc[closest_city_index])\n",
    "        # print('travelling distance', shortest_dist)\n",
    "        current_city = unvisited.loc[closest_city_index]\n",
    "        unvisited = unvisited.drop(index=closest_city_index)\n",
    "\n",
    "    #print(current_city)\n",
    "    #print(cities.iloc[0])\n",
    "    distance_return = compute_distance(current_city, cities.iloc[0])\n",
    "    #print(distance_return)\n",
    "    cost += distance_return\n",
    "    \n",
    "    return route, cost"
   ]
  },
  {
   "cell_type": "code",
   "execution_count": 95,
   "metadata": {},
   "outputs": [
    {
     "name": "stdout",
     "output_type": "stream",
     "text": [
      "(['Isangel', 'Vila', 'Lakatoro', 'Norsup', 'Luganville', 'Port Olry', 'Longana', 'Sola'], 1475.528091104531)\n"
     ]
    }
   ],
   "source": [
    "print(greedy_tsp(vanuatu))"
   ]
  },
  {
   "cell_type": "code",
   "execution_count": 96,
   "metadata": {},
   "outputs": [
    {
     "name": "stdout",
     "output_type": "stream",
     "text": [
      "4436.03176952516\n"
     ]
    }
   ],
   "source": [
    "print(greedy_tsp(italy)[1])"
   ]
  },
  {
   "cell_type": "code",
   "execution_count": 97,
   "metadata": {},
   "outputs": [
    {
     "name": "stdout",
     "output_type": "stream",
     "text": [
      "42334.16465744784\n"
     ]
    }
   ],
   "source": [
    "print(greedy_tsp(russia)[1])"
   ]
  },
  {
   "cell_type": "code",
   "execution_count": 98,
   "metadata": {},
   "outputs": [
    {
     "name": "stdout",
     "output_type": "stream",
     "text": [
      "48050.02586446137\n"
     ]
    }
   ],
   "source": [
    "print(greedy_tsp(us)[1])"
   ]
  },
  {
   "cell_type": "code",
   "execution_count": 99,
   "metadata": {},
   "outputs": [
    {
     "name": "stdout",
     "output_type": "stream",
     "text": [
      "63962.9184294552\n"
     ]
    }
   ],
   "source": [
    "print(greedy_tsp(china)[1])"
   ]
  },
  {
   "cell_type": "markdown",
   "metadata": {},
   "source": [
    "## Greedier algorithm"
   ]
  },
  {
   "cell_type": "code",
   "execution_count": 106,
   "metadata": {},
   "outputs": [],
   "source": [
    "def create_dist_matrix(cities):\n",
    "    dist_matrix = np.zeros((cities.shape[0], cities.shape[0]))\n",
    "    for c1, c2 in combinations(cities.itertuples(), 2):\n",
    "        dist_matrix[c1.Index, c2.Index] = dist_matrix[c2.Index, c1.Index] = compute_distance(c1,c2)\n",
    "    return dist_matrix"
   ]
  },
  {
   "cell_type": "code",
   "execution_count": 176,
   "metadata": {},
   "outputs": [],
   "source": [
    "def greedier_tsp(cities):\n",
    "\n",
    "    min_cost = np.inf\n",
    "    min_route = None\n",
    "    num_cities = cities.shape[0]\n",
    "    max_iter = np.min((num_cities, 15))\n",
    "\n",
    "    for _ in tqdm(range(max_iter)):\n",
    "        dist_matrix = create_dist_matrix(cities)\n",
    "        route = []\n",
    "        current_city_index = np.random.randint(num_cities)\n",
    "        route.append(current_city_index)\n",
    "        cost = 0\n",
    "\n",
    "        while not len(route)==num_cities:\n",
    "            dist_matrix[:, current_city_index] = np.inf\n",
    "            closest_city_index = np.argmin(dist_matrix[current_city_index])\n",
    "            route.append(closest_city_index)\n",
    "            cost += dist_matrix[current_city_index, closest_city_index]\n",
    "            current_city_index = closest_city_index\n",
    "        \n",
    "        cost += compute_distance(cities.iloc[route[-1]], cities.iloc[route[0]])\n",
    "        route.append(route[0])\n",
    "\n",
    "        if cost < min_cost:\n",
    "            min_cost = cost\n",
    "            min_route = route\n",
    "\n",
    "\n",
    "    return min_route, min_cost"
   ]
  },
  {
   "cell_type": "code",
   "execution_count": 177,
   "metadata": {},
   "outputs": [
    {
     "data": {
      "application/vnd.jupyter.widget-view+json": {
       "model_id": "df43c028db1c4e018bf00552e9cd77e4",
       "version_major": 2,
       "version_minor": 0
      },
      "text/plain": [
       "  0%|          | 0/8 [00:00<?, ?it/s]"
      ]
     },
     "metadata": {},
     "output_type": "display_data"
    },
    {
     "name": "stdout",
     "output_type": "stream",
     "text": [
      "([0, np.int64(7), np.int64(1), np.int64(4), np.int64(3), np.int64(5), np.int64(2), np.int64(6), 0], np.float64(1475.528091104531))\n"
     ]
    }
   ],
   "source": [
    "print(greedier_tsp(vanuatu))"
   ]
  },
  {
   "cell_type": "code",
   "execution_count": 173,
   "metadata": {},
   "outputs": [
    {
     "name": "stdout",
     "output_type": "stream",
     "text": [
      "([35, np.int64(21), np.int64(14), np.int64(15), np.int64(34), np.int64(39), np.int64(26), np.int64(0), np.int64(33), np.int64(12), np.int64(30), np.int64(9), np.int64(4), np.int64(19), np.int64(32), np.int64(25), np.int64(28), np.int64(18), np.int64(20), np.int64(3), np.int64(6), np.int64(44), np.int64(45), np.int64(23), np.int64(43), np.int64(41), np.int64(5), np.int64(40), np.int64(22), np.int64(42), np.int64(13), np.int64(16), np.int64(29), np.int64(10), np.int64(27), np.int64(11), np.int64(1), np.int64(2), np.int64(38), np.int64(17), np.int64(31), np.int64(8), np.int64(37), np.int64(24), np.int64(7), np.int64(36), 35], np.float64(4628.352240990477))\n"
     ]
    }
   ],
   "source": [
    "print(greedier_tsp(italy))"
   ]
  },
  {
   "cell_type": "code",
   "execution_count": 167,
   "metadata": {},
   "outputs": [
    {
     "name": "stdout",
     "output_type": "stream",
     "text": [
      "41526.35101041394\n"
     ]
    }
   ],
   "source": [
    "print(greedier_tsp(russia)[1])"
   ]
  },
  {
   "cell_type": "code",
   "execution_count": 168,
   "metadata": {},
   "outputs": [
    {
     "name": "stdout",
     "output_type": "stream",
     "text": [
      "47538.6574768417\n"
     ]
    }
   ],
   "source": [
    "print(greedier_tsp(us)[1])"
   ]
  },
  {
   "cell_type": "code",
   "execution_count": 169,
   "metadata": {},
   "outputs": [
    {
     "name": "stdout",
     "output_type": "stream",
     "text": [
      "63057.19111098851\n"
     ]
    }
   ],
   "source": [
    "# print(greedier_tsp(china)[1])\n",
    "# This computation took 12m36s on my machine. Computationally heavy and totally not optimal for large set of cities"
   ]
  }
 ],
 "metadata": {
  "kernelspec": {
   "display_name": "venv",
   "language": "python",
   "name": "python3"
  },
  "language_info": {
   "codemirror_mode": {
    "name": "ipython",
    "version": 3
   },
   "file_extension": ".py",
   "mimetype": "text/x-python",
   "name": "python",
   "nbconvert_exporter": "python",
   "pygments_lexer": "ipython3",
   "version": "3.12.0"
  }
 },
 "nbformat": 4,
 "nbformat_minor": 2
}
